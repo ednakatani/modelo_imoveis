{
 "cells": [
  {
   "cell_type": "markdown",
   "metadata": {},
   "source": [
    "# Exploratory Data Analysis\n",
    "\n",
    "---"
   ]
  },
  {
   "cell_type": "code",
   "execution_count": 1,
   "metadata": {},
   "outputs": [],
   "source": [
    "import pandas as pd\n",
    "import matplotlib.pyplot as plt\n",
    "import numpy as np\n",
    "import seaborn as sns"
   ]
  },
  {
   "cell_type": "markdown",
   "metadata": {},
   "source": [
    "## 1 - Dataset\n",
    "\n",
    "The dataset was created scraping real estate office websites and processing the results."
   ]
  },
  {
   "cell_type": "markdown",
   "metadata": {},
   "source": [
    "\n",
    "#### **Data Dictionary**\n",
    "\n",
    "| **#** | **Collumn** | **Description** |\n",
    "| --- | --- | --- |\n",
    "| 0 | preco | Property price in Reais (R$) |\n",
    "| 1 | local | Full or partial adress of the property |\n",
    "| 2 | metragem | Size of property in meters|\n",
    "| 3 | quartos | Number of bedrooms |\n",
    "| 4 | garagens | Number of parking spaces |\n",
    "| 5 | banheiros | Number of bathrooms |\n",
    "| 6 | bairro | District label |\n"
   ]
  },
  {
   "cell_type": "markdown",
   "metadata": {},
   "source": [
    "\n",
    "#### **Importing the Data** "
   ]
  },
  {
   "cell_type": "code",
   "execution_count": 2,
   "metadata": {},
   "outputs": [
    {
     "data": {
      "text/html": [
       "<div>\n",
       "<style scoped>\n",
       "    .dataframe tbody tr th:only-of-type {\n",
       "        vertical-align: middle;\n",
       "    }\n",
       "\n",
       "    .dataframe tbody tr th {\n",
       "        vertical-align: top;\n",
       "    }\n",
       "\n",
       "    .dataframe thead th {\n",
       "        text-align: right;\n",
       "    }\n",
       "</style>\n",
       "<table border=\"1\" class=\"dataframe\">\n",
       "  <thead>\n",
       "    <tr style=\"text-align: right;\">\n",
       "      <th></th>\n",
       "      <th>local</th>\n",
       "      <th>preco</th>\n",
       "      <th>metragem</th>\n",
       "      <th>quartos</th>\n",
       "      <th>garagens</th>\n",
       "      <th>banheiros</th>\n",
       "      <th>bairro</th>\n",
       "    </tr>\n",
       "  </thead>\n",
       "  <tbody>\n",
       "    <tr>\n",
       "      <th>0</th>\n",
       "      <td>Rua Maria Thereza Gonçalves, Umbara</td>\n",
       "      <td>399900</td>\n",
       "      <td>106</td>\n",
       "      <td>3.0</td>\n",
       "      <td>2.0</td>\n",
       "      <td>2</td>\n",
       "      <td>76</td>\n",
       "    </tr>\n",
       "    <tr>\n",
       "      <th>1</th>\n",
       "      <td>Travessa Paulo Ribeiro, Sitio Cercado</td>\n",
       "      <td>765190</td>\n",
       "      <td>319</td>\n",
       "      <td>5.0</td>\n",
       "      <td>3.0</td>\n",
       "      <td>4</td>\n",
       "      <td>70</td>\n",
       "    </tr>\n",
       "    <tr>\n",
       "      <th>2</th>\n",
       "      <td>Uberaba, Curitiba</td>\n",
       "      <td>2350000</td>\n",
       "      <td>500</td>\n",
       "      <td>5.0</td>\n",
       "      <td>7.0</td>\n",
       "      <td>5</td>\n",
       "      <td>75</td>\n",
       "    </tr>\n",
       "    <tr>\n",
       "      <th>3</th>\n",
       "      <td>Rua Ângelo Greca, Atuba</td>\n",
       "      <td>737000</td>\n",
       "      <td>144</td>\n",
       "      <td>4.0</td>\n",
       "      <td>NaN</td>\n",
       "      <td>4</td>\n",
       "      <td>7</td>\n",
       "    </tr>\n",
       "    <tr>\n",
       "      <th>4</th>\n",
       "      <td>Rua João Fonseca Mercer, Atuba</td>\n",
       "      <td>1140000</td>\n",
       "      <td>276</td>\n",
       "      <td>5.0</td>\n",
       "      <td>3.0</td>\n",
       "      <td>5</td>\n",
       "      <td>7</td>\n",
       "    </tr>\n",
       "  </tbody>\n",
       "</table>\n",
       "</div>"
      ],
      "text/plain": [
       "                                   local    preco  metragem  quartos  \\\n",
       "0    Rua Maria Thereza Gonçalves, Umbara   399900       106      3.0   \n",
       "1  Travessa Paulo Ribeiro, Sitio Cercado   765190       319      5.0   \n",
       "2                      Uberaba, Curitiba  2350000       500      5.0   \n",
       "3                Rua Ângelo Greca, Atuba   737000       144      4.0   \n",
       "4         Rua João Fonseca Mercer, Atuba  1140000       276      5.0   \n",
       "\n",
       "   garagens  banheiros  bairro  \n",
       "0       2.0          2      76  \n",
       "1       3.0          4      70  \n",
       "2       7.0          5      75  \n",
       "3       NaN          4       7  \n",
       "4       3.0          5       7  "
      ]
     },
     "execution_count": 2,
     "metadata": {},
     "output_type": "execute_result"
    }
   ],
   "source": [
    "df = pd.read_csv('imoveis.csv', sep=',')\n",
    "\n",
    "df.head(5)"
   ]
  },
  {
   "cell_type": "markdown",
   "metadata": {},
   "source": [
    "#### **Data Completeness** "
   ]
  },
  {
   "cell_type": "code",
   "execution_count": 3,
   "metadata": {},
   "outputs": [
    {
     "name": "stdout",
     "output_type": "stream",
     "text": [
      "Total number of entries in our dataset:  8448\n",
      "\n",
      "Number of missing entries in total dataset:\n",
      "local          0\n",
      "preco          0\n",
      "metragem       0\n",
      "quartos       13\n",
      "garagens     332\n",
      "banheiros      0\n",
      "bairro         0\n",
      "dtype: int64\n"
     ]
    }
   ],
   "source": [
    "print('Total number of entries in our dataset: ', df.shape[0])\n",
    "\n",
    "print('\\nNumber of missing entries in total dataset:')\n",
    "print(df.isnull().sum())"
   ]
  },
  {
   "cell_type": "markdown",
   "metadata": {},
   "source": [
    "## 2 - Feature Exploration"
   ]
  },
  {
   "cell_type": "code",
   "execution_count": 4,
   "metadata": {},
   "outputs": [
    {
     "data": {
      "text/html": [
       "<div>\n",
       "<style scoped>\n",
       "    .dataframe tbody tr th:only-of-type {\n",
       "        vertical-align: middle;\n",
       "    }\n",
       "\n",
       "    .dataframe tbody tr th {\n",
       "        vertical-align: top;\n",
       "    }\n",
       "\n",
       "    .dataframe thead th {\n",
       "        text-align: right;\n",
       "    }\n",
       "</style>\n",
       "<table border=\"1\" class=\"dataframe\">\n",
       "  <thead>\n",
       "    <tr style=\"text-align: right;\">\n",
       "      <th></th>\n",
       "      <th>preco</th>\n",
       "      <th>metragem</th>\n",
       "      <th>quartos</th>\n",
       "      <th>garagens</th>\n",
       "      <th>banheiros</th>\n",
       "      <th>bairro</th>\n",
       "    </tr>\n",
       "  </thead>\n",
       "  <tbody>\n",
       "    <tr>\n",
       "      <th>count</th>\n",
       "      <td>8.448000e+03</td>\n",
       "      <td>8448.000000</td>\n",
       "      <td>8435.000000</td>\n",
       "      <td>8116.000000</td>\n",
       "      <td>8448.000000</td>\n",
       "      <td>8448.000000</td>\n",
       "    </tr>\n",
       "    <tr>\n",
       "      <th>mean</th>\n",
       "      <td>8.514392e+05</td>\n",
       "      <td>264.015388</td>\n",
       "      <td>3.210433</td>\n",
       "      <td>2.867669</td>\n",
       "      <td>2.936908</td>\n",
       "      <td>42.845999</td>\n",
       "    </tr>\n",
       "    <tr>\n",
       "      <th>std</th>\n",
       "      <td>7.513846e+05</td>\n",
       "      <td>3915.131691</td>\n",
       "      <td>0.871211</td>\n",
       "      <td>1.942547</td>\n",
       "      <td>1.335750</td>\n",
       "      <td>25.647843</td>\n",
       "    </tr>\n",
       "    <tr>\n",
       "      <th>min</th>\n",
       "      <td>7.500000e+04</td>\n",
       "      <td>10.000000</td>\n",
       "      <td>1.000000</td>\n",
       "      <td>1.000000</td>\n",
       "      <td>1.000000</td>\n",
       "      <td>-1.000000</td>\n",
       "    </tr>\n",
       "    <tr>\n",
       "      <th>25%</th>\n",
       "      <td>4.999742e+05</td>\n",
       "      <td>111.000000</td>\n",
       "      <td>3.000000</td>\n",
       "      <td>2.000000</td>\n",
       "      <td>2.000000</td>\n",
       "      <td>17.000000</td>\n",
       "    </tr>\n",
       "    <tr>\n",
       "      <th>50%</th>\n",
       "      <td>6.600000e+05</td>\n",
       "      <td>149.000000</td>\n",
       "      <td>3.000000</td>\n",
       "      <td>2.000000</td>\n",
       "      <td>3.000000</td>\n",
       "      <td>44.000000</td>\n",
       "    </tr>\n",
       "    <tr>\n",
       "      <th>75%</th>\n",
       "      <td>9.000000e+05</td>\n",
       "      <td>216.000000</td>\n",
       "      <td>3.000000</td>\n",
       "      <td>3.000000</td>\n",
       "      <td>4.000000</td>\n",
       "      <td>69.000000</td>\n",
       "    </tr>\n",
       "    <tr>\n",
       "      <th>max</th>\n",
       "      <td>2.000000e+07</td>\n",
       "      <td>290000.000000</td>\n",
       "      <td>20.000000</td>\n",
       "      <td>31.000000</td>\n",
       "      <td>18.000000</td>\n",
       "      <td>80.000000</td>\n",
       "    </tr>\n",
       "  </tbody>\n",
       "</table>\n",
       "</div>"
      ],
      "text/plain": [
       "              preco       metragem      quartos     garagens    banheiros  \\\n",
       "count  8.448000e+03    8448.000000  8435.000000  8116.000000  8448.000000   \n",
       "mean   8.514392e+05     264.015388     3.210433     2.867669     2.936908   \n",
       "std    7.513846e+05    3915.131691     0.871211     1.942547     1.335750   \n",
       "min    7.500000e+04      10.000000     1.000000     1.000000     1.000000   \n",
       "25%    4.999742e+05     111.000000     3.000000     2.000000     2.000000   \n",
       "50%    6.600000e+05     149.000000     3.000000     2.000000     3.000000   \n",
       "75%    9.000000e+05     216.000000     3.000000     3.000000     4.000000   \n",
       "max    2.000000e+07  290000.000000    20.000000    31.000000    18.000000   \n",
       "\n",
       "            bairro  \n",
       "count  8448.000000  \n",
       "mean     42.845999  \n",
       "std      25.647843  \n",
       "min      -1.000000  \n",
       "25%      17.000000  \n",
       "50%      44.000000  \n",
       "75%      69.000000  \n",
       "max      80.000000  "
      ]
     },
     "execution_count": 4,
     "metadata": {},
     "output_type": "execute_result"
    }
   ],
   "source": [
    "df.describe()"
   ]
  },
  {
   "cell_type": "markdown",
   "metadata": {},
   "source": [
    "#### **Univariate** "
   ]
  },
  {
   "cell_type": "code",
   "execution_count": 53,
   "metadata": {},
   "outputs": [
    {
     "data": {
      "text/plain": [
       "Text(0.5, 1.0, 'Beds')"
      ]
     },
     "execution_count": 53,
     "metadata": {},
     "output_type": "execute_result"
    },
    {
     "data": {
      "image/png": "[encoded data removed]",
      "text/plain": [
       "<Figure size 936x360 with 6 Axes>"
      ]
     },
     "metadata": {
      "needs_background": "light"
     },
     "output_type": "display_data"
    }
   ],
   "source": [
    "fig, axes = plt.subplots(2, 3, figsize=(13, 5))\n",
    "fig.suptitle('Collumns Box Plots')\n",
    "\n",
    "# Price\n",
    "sns.boxplot(ax=axes[0,0], y=df.preco, showfliers = False, color='khaki')\n",
    "axes[1,2].set_title('Price')\n",
    "# Baths\n",
    "sns.boxplot(ax=axes[0,1], y=df.banheiros, showfliers = False, color='violet')\n",
    "axes[0,1].set_title('Baths')\n",
    "# Zip Code\n",
    "sns.boxplot(ax=axes[0,2], y=df.bairro, showfliers = False, color='mediumpurple')\n",
    "axes[0,2].set_title('District')\n",
    "# Acres\n",
    "sns.boxplot(ax=axes[1,0], y=df.garagens, showfliers = False, color='skyblue')\n",
    "axes[1,0].set_title('Parking Spaces')\n",
    "# House size\n",
    "sns.boxplot(ax=axes[1,1], y=df.metragem, showfliers = False, color='mediumseagreen')\n",
    "axes[1,1].set_title('House size')\n",
    "# Beds\n",
    "sns.boxplot(ax=axes[1,2], y=df.quartos, color='orchid')\n",
    "axes[0,0].set_title('Beds')"
   ]
  },
  {
   "cell_type": "markdown",
   "metadata": {},
   "source": [
    "#### **Multivariate** "
   ]
  },
  {
   "cell_type": "code",
   "execution_count": 41,
   "metadata": {},
   "outputs": [
    {
     "data": {
      "image/png": "[encoded data removed]",
      "text/plain": [
       "<Figure size 432x288 with 2 Axes>"
      ]
     },
     "metadata": {
      "needs_background": "light"
     },
     "output_type": "display_data"
    }
   ],
   "source": [
    "correlacoes = df.corr()\n",
    "fig, ax = plt.subplots()\n",
    "ax.set_title('Collumns Correlation')\n",
    "sns.heatmap(correlacoes,square=True, annot=True)\n",
    "plt.show()"
   ]
  },
  {
   "cell_type": "code",
   "execution_count": 54,
   "metadata": {},
   "outputs": [
    {
     "data": {
      "text/plain": [
       "Text(0, 0.5, 'Bedrooms')"
      ]
     },
     "execution_count": 54,
     "metadata": {},
     "output_type": "execute_result"
    },
    {
     "data": {
      "image/png": "[encoded data removed]",
      "text/plain": [
       "<Figure size 432x288 with 1 Axes>"
      ]
     },
     "metadata": {
      "needs_background": "light"
     },
     "output_type": "display_data"
    }
   ],
   "source": [
    "sns.barplot(x=df['banheiros'],y=df['quartos'])\n",
    "plt.xticks(rotation=0)\n",
    "plt.xlabel('Baths', weight='bold')\n",
    "plt.ylabel('Bedrooms', weight='bold')"
   ]
  },
  {
   "cell_type": "code",
   "execution_count": 52,
   "metadata": {},
   "outputs": [
    {
     "data": {
      "text/plain": [
       "Text(0, 0.5, 'Price')"
      ]
     },
     "execution_count": 52,
     "metadata": {},
     "output_type": "execute_result"
    },
    {
     "data": {
      "image/png": "[encoded data removed]",
      "text/plain": [
       "<Figure size 432x288 with 1 Axes>"
      ]
     },
     "metadata": {
      "needs_background": "light"
     },
     "output_type": "display_data"
    }
   ],
   "source": [
    "sns.barplot(x=df['banheiros'],y=df['preco'])\n",
    "plt.xticks(rotation=0)\n",
    "plt.xlabel('Baths', weight='bold')\n",
    "plt.ylabel('Price', weight='bold')"
   ]
  },
  {
   "cell_type": "code",
   "execution_count": 51,
   "metadata": {},
   "outputs": [
    {
     "data": {
      "text/plain": [
       "Text(0, 0.5, 'Price')"
      ]
     },
     "execution_count": 51,
     "metadata": {},
     "output_type": "execute_result"
    },
    {
     "data": {
      "image/png": "[encoded data removed]",
      "text/plain": [
       "<Figure size 432x288 with 1 Axes>"
      ]
     },
     "metadata": {
      "needs_background": "light"
     },
     "output_type": "display_data"
    }
   ],
   "source": [
    "sns.barplot(x=df['quartos'],y=df['preco'])\n",
    "plt.xticks(rotation=0)\n",
    "plt.xlabel('Bedrooms', weight='bold')\n",
    "plt.ylabel('Price', weight='bold')"
   ]
  },
  {
   "cell_type": "code",
   "execution_count": 49,
   "metadata": {},
   "outputs": [
    {
     "data": {
      "text/plain": [
       "Text(0, 0.5, 'Price')"
      ]
     },
     "execution_count": 49,
     "metadata": {},
     "output_type": "execute_result"
    },
    {
     "data": {
      "image/png": "[encoded data removed]",
      "text/plain": [
       "<Figure size 720x360 with 1 Axes>"
      ]
     },
     "metadata": {
      "needs_background": "light"
     },
     "output_type": "display_data"
    }
   ],
   "source": [
    "fig = plt.figure(figsize=(10,5))\n",
    "sns.barplot(x=df['garagens'],y=df['preco'])\n",
    "plt.xticks(rotation=0)\n",
    "plt.xlabel('Parking Spaces', weight='bold')\n",
    "plt.ylabel('Price', weight='bold')"
   ]
  },
  {
   "cell_type": "code",
   "execution_count": 50,
   "metadata": {},
   "outputs": [
    {
     "data": {
      "text/plain": [
       "Text(0, 0.5, 'Price')"
      ]
     },
     "execution_count": 50,
     "metadata": {},
     "output_type": "execute_result"
    },
    {
     "data": {
      "image/png": "[encoded data removed]",
      "text/plain": [
       "<Figure size 1440x360 with 1 Axes>"
      ]
     },
     "metadata": {
      "needs_background": "light"
     },
     "output_type": "display_data"
    }
   ],
   "source": [
    "fig = plt.figure(figsize=(20,5))\n",
    "sns.barplot(x=df['bairro'],y=df['preco'])\n",
    "plt.xticks(rotation=0)\n",
    "plt.xlabel('District', weight='bold')\n",
    "plt.ylabel('Price', weight='bold')\n"
   ]
  },
  {
   "cell_type": "code",
   "execution_count": null,
   "metadata": {},
   "outputs": [],
   "source": []
  }
 ],
 "metadata": {
  "kernelspec": {
   "display_name": "Python 3.7.8 32-bit",
   "language": "python",
   "name": "python3"
  },
  "language_info": {
   "codemirror_mode": {
    "name": "ipython",
    "version": 3
   },
   "file_extension": ".py",
   "mimetype": "text/x-python",
   "name": "python",
   "nbconvert_exporter": "python",
   "pygments_lexer": "ipython3",
   "version": "3.7.8"
  },
  "orig_nbformat": 4,
  "vscode": {
   "interpreter": {
    "hash": "c72eea38e31e45ece3384b9089d7a4f46e899cb129d83cdec1758a1f0e4694ab"
   }
  }
 },
 "nbformat": 4,
 "nbformat_minor": 2
}
