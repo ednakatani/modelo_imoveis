{
 "cells": [
  {
   "cell_type": "code",
   "execution_count": 21,
   "metadata": {},
   "outputs": [],
   "source": [
    "from joblib import dump, load\n",
    "\n",
    "from warnings import simplefilter\n",
    "simplefilter(action='ignore', category=FutureWarning)\n",
    "simplefilter(action='ignore', category=UserWarning)"
   ]
  },
  {
   "cell_type": "code",
   "execution_count": 22,
   "metadata": {},
   "outputs": [],
   "source": [
    "area = 157.0\n",
    "quartos = 3\n",
    "garagens = 2\n",
    "banheiros = 4\n",
    "bairro = 23 #Santa Felicidade"
   ]
  },
  {
   "cell_type": "code",
   "execution_count": 23,
   "metadata": {},
   "outputs": [],
   "source": [
    "with open(\"models/KNN.mod\", 'rb') as fo:  \n",
    "    knn = load(fo)\n",
    "\n",
    "with open(\"models/MLP.mod\", 'rb') as fo:  \n",
    "    mlp = load(fo)\n",
    "\n",
    "with open(\"models/SVM.mod\", 'rb') as fo:  \n",
    "    svm = load(fo)"
   ]
  },
  {
   "cell_type": "code",
   "execution_count": 24,
   "metadata": {},
   "outputs": [],
   "source": [
    "with open(\"models/scaler_knn.mod\", 'rb') as fo:  \n",
    "    scaler_knn = load(fo)\n",
    "with open(\"models/scaler_preco_knn.mod\", 'rb') as fo:  \n",
    "    scaler_preco_knn = load(fo)\n",
    "\n",
    "with open(\"models/scaler_mlp.mod\", 'rb') as fo:  \n",
    "    scaler_mlp = load(fo)\n",
    "with open(\"models/scaler_preco_mlp.mod\", 'rb') as fo:  \n",
    "    scaler_preco_mlp = load(fo)\n",
    "\n",
    "with open(\"models/scaler_svm.mod\", 'rb') as fo:  \n",
    "    scaler_svm = load(fo)\n",
    "with open(\"models/scaler_preco_svm.mod\", 'rb') as fo:  \n",
    "    scaler_preco_svm = load(fo)"
   ]
  },
  {
   "cell_type": "code",
   "execution_count": 25,
   "metadata": {},
   "outputs": [
    {
     "name": "stdout",
     "output_type": "stream",
     "text": [
      "Preço estimado KNN: R$ 791933.3333333334\n",
      "Preço estimado MLP: R$ 914932.3270163444\n",
      "Preço estimado SVM: R$ 1717813.2261091818\n"
     ]
    }
   ],
   "source": [
    "valores = scaler_knn.transform([[area, quartos, garagens, banheiros, bairro]])\n",
    "casa = knn.predict(valores)\n",
    "print(\"Preço estimado {m}: R$\".format(m=\"KNN\"), scaler_preco_knn.inverse_transform(casa.reshape(-1,1))[0][0])\n",
    "\n",
    "valores = scaler_mlp.transform([[area, quartos, garagens, banheiros, bairro]])\n",
    "casa = mlp.predict(valores)\n",
    "print(\"Preço estimado {m}: R$\".format(m=\"MLP\"), scaler_preco_mlp.inverse_transform(casa.reshape(-1,1))[0][0])\n",
    "\n",
    "valores = scaler_svm.transform([[area, quartos, garagens, banheiros, bairro]])\n",
    "casa = svm.predict(valores)\n",
    "print(\"Preço estimado {m}: R$\".format(m=\"SVM\"), scaler_preco_svm.inverse_transform(casa.reshape(-1,1))[0][0])   "
   ]
  }
 ],
 "metadata": {
  "kernelspec": {
   "display_name": "Python 3.7.8 32-bit",
   "language": "python",
   "name": "python3"
  },
  "language_info": {
   "codemirror_mode": {
    "name": "ipython",
    "version": 3
   },
   "file_extension": ".py",
   "mimetype": "text/x-python",
   "name": "python",
   "nbconvert_exporter": "python",
   "pygments_lexer": "ipython3",
   "version": "3.7.8"
  },
  "orig_nbformat": 4,
  "vscode": {
   "interpreter": {
    "hash": "c72eea38e31e45ece3384b9089d7a4f46e899cb129d83cdec1758a1f0e4694ab"
   }
  }
 },
 "nbformat": 4,
 "nbformat_minor": 2
}
