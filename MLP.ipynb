{
 "cells": [
  {
   "cell_type": "markdown",
   "metadata": {},
   "source": [
    "<h1> Model Training - Multilayer Perceptron</h1>"
   ]
  },
  {
   "cell_type": "code",
   "execution_count": 32,
   "metadata": {},
   "outputs": [],
   "source": [
    "from sklearn.neural_network import MLPRegressor\n",
    "from sklearn.model_selection import GridSearchCV\n",
    "import pandas as pd\n",
    "import numpy as np\n",
    "import seaborn as sns\n",
    "import matplotlib.pyplot as plt\n",
    "import plotly.express as px\n",
    "from sklearn import metrics\n",
    "from sklearn.preprocessing import RobustScaler, StandardScaler, MinMaxScaler\n",
    "from sklearn.compose import TransformedTargetRegressor\n",
    "from sklearn.model_selection import train_test_split"
   ]
  },
  {
   "cell_type": "code",
   "execution_count": 33,
   "metadata": {},
   "outputs": [],
   "source": [
    "df = pd.read_csv('imoveis.csv')"
   ]
  },
  {
   "cell_type": "code",
   "execution_count": 34,
   "metadata": {},
   "outputs": [
    {
     "data": {
      "text/html": [
       "<div>\n",
       "<style scoped>\n",
       "    .dataframe tbody tr th:only-of-type {\n",
       "        vertical-align: middle;\n",
       "    }\n",
       "\n",
       "    .dataframe tbody tr th {\n",
       "        vertical-align: top;\n",
       "    }\n",
       "\n",
       "    .dataframe thead th {\n",
       "        text-align: right;\n",
       "    }\n",
       "</style>\n",
       "<table border=\"1\" class=\"dataframe\">\n",
       "  <thead>\n",
       "    <tr style=\"text-align: right;\">\n",
       "      <th></th>\n",
       "      <th>local</th>\n",
       "      <th>preco</th>\n",
       "      <th>metragem</th>\n",
       "      <th>quartos</th>\n",
       "      <th>garagens</th>\n",
       "      <th>banheiros</th>\n",
       "      <th>bairro</th>\n",
       "    </tr>\n",
       "  </thead>\n",
       "  <tbody>\n",
       "    <tr>\n",
       "      <th>0</th>\n",
       "      <td>Rua Maria Thereza Gonçalves, Umbara</td>\n",
       "      <td>399900</td>\n",
       "      <td>106</td>\n",
       "      <td>3.0</td>\n",
       "      <td>2.0</td>\n",
       "      <td>2</td>\n",
       "      <td>76</td>\n",
       "    </tr>\n",
       "    <tr>\n",
       "      <th>1</th>\n",
       "      <td>Travessa Paulo Ribeiro, Sitio Cercado</td>\n",
       "      <td>765190</td>\n",
       "      <td>319</td>\n",
       "      <td>5.0</td>\n",
       "      <td>3.0</td>\n",
       "      <td>4</td>\n",
       "      <td>70</td>\n",
       "    </tr>\n",
       "    <tr>\n",
       "      <th>2</th>\n",
       "      <td>Uberaba, Curitiba</td>\n",
       "      <td>2350000</td>\n",
       "      <td>500</td>\n",
       "      <td>5.0</td>\n",
       "      <td>7.0</td>\n",
       "      <td>5</td>\n",
       "      <td>75</td>\n",
       "    </tr>\n",
       "    <tr>\n",
       "      <th>3</th>\n",
       "      <td>Rua Ângelo Greca, Atuba</td>\n",
       "      <td>737000</td>\n",
       "      <td>144</td>\n",
       "      <td>4.0</td>\n",
       "      <td>NaN</td>\n",
       "      <td>4</td>\n",
       "      <td>7</td>\n",
       "    </tr>\n",
       "    <tr>\n",
       "      <th>4</th>\n",
       "      <td>Rua João Fonseca Mercer, Atuba</td>\n",
       "      <td>1140000</td>\n",
       "      <td>276</td>\n",
       "      <td>5.0</td>\n",
       "      <td>3.0</td>\n",
       "      <td>5</td>\n",
       "      <td>7</td>\n",
       "    </tr>\n",
       "  </tbody>\n",
       "</table>\n",
       "</div>"
      ],
      "text/plain": [
       "                                   local    preco  metragem  quartos  \\\n",
       "0    Rua Maria Thereza Gonçalves, Umbara   399900       106      3.0   \n",
       "1  Travessa Paulo Ribeiro, Sitio Cercado   765190       319      5.0   \n",
       "2                      Uberaba, Curitiba  2350000       500      5.0   \n",
       "3                Rua Ângelo Greca, Atuba   737000       144      4.0   \n",
       "4         Rua João Fonseca Mercer, Atuba  1140000       276      5.0   \n",
       "\n",
       "   garagens  banheiros  bairro  \n",
       "0       2.0          2      76  \n",
       "1       3.0          4      70  \n",
       "2       7.0          5      75  \n",
       "3       NaN          4       7  \n",
       "4       3.0          5       7  "
      ]
     },
     "execution_count": 34,
     "metadata": {},
     "output_type": "execute_result"
    }
   ],
   "source": [
    "df.head()"
   ]
  },
  {
   "cell_type": "code",
   "execution_count": 35,
   "metadata": {},
   "outputs": [],
   "source": [
    "x = df.drop(\"preco\", axis=1).drop(\"local\", axis=1)\n",
    "y = df[\"preco\"]"
   ]
  },
  {
   "cell_type": "code",
   "execution_count": 36,
   "metadata": {},
   "outputs": [],
   "source": [
    "scaler = MinMaxScaler()\n",
    "scaler_preco = MinMaxScaler()\n",
    "\n",
    "features = [['metragem', 'quartos', 'garagens', 'banheiros', 'bairro']]\n",
    "for feature in features:\n",
    "    x[feature] = scaler.fit_transform(x[feature])\n",
    "\n",
    "y = scaler_preco.fit_transform(y.values.reshape(-1,1))"
   ]
  },
  {
   "cell_type": "code",
   "execution_count": 37,
   "metadata": {},
   "outputs": [],
   "source": [
    "x.fillna(0, inplace=True)\n",
    "y_credit =y\n",
    "x_credit = x.to_numpy()"
   ]
  },
  {
   "cell_type": "code",
   "execution_count": 38,
   "metadata": {},
   "outputs": [],
   "source": [
    "x_treinamento, x_teste, y_treinamento, y_teste = train_test_split(x_credit, y_credit, test_size = 0.2, random_state = 0)"
   ]
  },
  {
   "cell_type": "code",
   "execution_count": 39,
   "metadata": {},
   "outputs": [
    {
     "data": {
      "text/plain": [
       "MLPRegressor(early_stopping=True, max_iter=1500, random_state=10,\n",
       "             validation_fraction=0.2)"
      ]
     },
     "execution_count": 39,
     "metadata": {},
     "output_type": "execute_result"
    }
   ],
   "source": [
    "rede_neural_credit = MLPRegressor(random_state=10, max_iter=1500, early_stopping=True, validation_fraction=0.2)\n",
    "rede_neural_credit.fit(x_treinamento, y_treinamento.ravel())\n"
   ]
  },
  {
   "cell_type": "code",
   "execution_count": 40,
   "metadata": {},
   "outputs": [],
   "source": [
    "previsoes = rede_neural_credit.predict(x_teste)"
   ]
  },
  {
   "cell_type": "code",
   "execution_count": 58,
   "metadata": {},
   "outputs": [
    {
     "name": "stdout",
     "output_type": "stream",
     "text": [
      "MAE: 348947.15955220227\n",
      "MSLE: 88568.05948821273\n",
      "MAE: 85393.58021281747\n",
      "R2: 0.4630140052087355\n"
     ]
    }
   ],
   "source": [
    "print(\"MAE:\",scaler_preco.inverse_transform(metrics.mean_absolute_error(y_teste, previsoes).reshape(-1,1))[0][0])\n",
    "print(\"MSLE:\", scaler_preco.inverse_transform(metrics.mean_squared_error(y_teste, previsoes).reshape(-1,1))[0][0])\n",
    "print(\"MAE:\",scaler_preco.inverse_transform(metrics.mean_squared_log_error(y_teste, previsoes).reshape(-1,1))[0][0])\n",
    "print(\"R2:\", metrics.r2_score(y_teste, previsoes))"
   ]
  },
  {
   "cell_type": "code",
   "execution_count": 43,
   "metadata": {},
   "outputs": [
    {
     "data": {
      "text/plain": [
       "array([[ 750657.81292769],\n",
       "       [ 915721.26116992],\n",
       "       [ 888212.93047651],\n",
       "       ...,\n",
       "       [ 753836.62609319],\n",
       "       [1763441.94221547],\n",
       "       [ 894186.0648521 ]])"
      ]
     },
     "execution_count": 43,
     "metadata": {},
     "output_type": "execute_result"
    }
   ],
   "source": [
    "scaler_preco.inverse_transform(previsoes.reshape(-1, 1))"
   ]
  },
  {
   "cell_type": "code",
   "execution_count": 44,
   "metadata": {},
   "outputs": [
    {
     "data": {
      "text/plain": [
       "array([[ 780000.],\n",
       "       [1400000.],\n",
       "       [ 730000.],\n",
       "       ...,\n",
       "       [1100000.],\n",
       "       [1909115.],\n",
       "       [ 956500.]])"
      ]
     },
     "execution_count": 44,
     "metadata": {},
     "output_type": "execute_result"
    }
   ],
   "source": [
    "scaler_preco.inverse_transform(y_teste.reshape(-1, 1))"
   ]
  },
  {
   "cell_type": "code",
   "execution_count": 53,
   "metadata": {},
   "outputs": [
    {
     "name": "stderr",
     "output_type": "stream",
     "text": [
      "c:\\Users\\dudun\\AppData\\Local\\Programs\\Python\\Python37-32\\lib\\site-packages\\sklearn\\base.py:451: UserWarning: X does not have valid feature names, but MinMaxScaler was fitted with feature names\n",
      "  \"X does not have valid feature names, but\"\n"
     ]
    }
   ],
   "source": [
    "area = 154\n",
    "quartos = 4\n",
    "garagens = 2\n",
    "banheiros = 2\n",
    "bairro = 19 #Umbara\n",
    "valores = scaler.transform([[area, quartos, garagens, banheiros, bairro]])\n",
    "casa = rede_neural_credit.predict(valores)"
   ]
  },
  {
   "cell_type": "code",
   "execution_count": 54,
   "metadata": {},
   "outputs": [
    {
     "data": {
      "text/plain": [
       "array([[663003.16372142]])"
      ]
     },
     "execution_count": 54,
     "metadata": {},
     "output_type": "execute_result"
    }
   ],
   "source": [
    "scaler_preco.inverse_transform([casa])"
   ]
  },
  {
   "cell_type": "code",
   "execution_count": null,
   "metadata": {},
   "outputs": [],
   "source": []
  }
 ],
 "metadata": {
  "kernelspec": {
   "display_name": "Python 3.7.8 32-bit",
   "language": "python",
   "name": "python3"
  },
  "language_info": {
   "codemirror_mode": {
    "name": "ipython",
    "version": 3
   },
   "file_extension": ".py",
   "mimetype": "text/x-python",
   "name": "python",
   "nbconvert_exporter": "python",
   "pygments_lexer": "ipython3",
   "version": "3.7.8"
  },
  "orig_nbformat": 4,
  "vscode": {
   "interpreter": {
    "hash": "c72eea38e31e45ece3384b9089d7a4f46e899cb129d83cdec1758a1f0e4694ab"
   }
  }
 },
 "nbformat": 4,
 "nbformat_minor": 2
}
