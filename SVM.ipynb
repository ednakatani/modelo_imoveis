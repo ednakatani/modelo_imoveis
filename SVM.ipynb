{
 "cells": [
  {
   "cell_type": "markdown",
   "metadata": {},
   "source": [
    "## Support Vector Machine - Regression"
   ]
  },
  {
   "cell_type": "code",
   "execution_count": 81,
   "metadata": {},
   "outputs": [],
   "source": [
    "import numpy as np\n",
    "from sklearn.svm import SVR\n",
    "from sklearn import  model_selection\n",
    "from sklearn.model_selection import GridSearchCV, train_test_split\n",
    "from sklearn import preprocessing\n",
    "import pandas as pd\n",
    "from sklearn.preprocessing import RobustScaler, StandardScaler, MinMaxScaler\n",
    "from sklearn.pipeline import make_pipeline\n",
    "import sklearn.metrics as metrics\n",
    "from joblib import dump, load\n",
    "\n",
    "from warnings import simplefilter\n",
    "simplefilter(action='ignore', category=FutureWarning)\n",
    "simplefilter(action='ignore', category=UserWarning)"
   ]
  },
  {
   "cell_type": "code",
   "execution_count": 82,
   "metadata": {},
   "outputs": [],
   "source": [
    "df = pd.read_csv('imoveis.csv')"
   ]
  },
  {
   "cell_type": "code",
   "execution_count": 83,
   "metadata": {},
   "outputs": [
    {
     "data": {
      "text/html": [
       "<div>\n",
       "<style scoped>\n",
       "    .dataframe tbody tr th:only-of-type {\n",
       "        vertical-align: middle;\n",
       "    }\n",
       "\n",
       "    .dataframe tbody tr th {\n",
       "        vertical-align: top;\n",
       "    }\n",
       "\n",
       "    .dataframe thead th {\n",
       "        text-align: right;\n",
       "    }\n",
       "</style>\n",
       "<table border=\"1\" class=\"dataframe\">\n",
       "  <thead>\n",
       "    <tr style=\"text-align: right;\">\n",
       "      <th></th>\n",
       "      <th>local</th>\n",
       "      <th>preco</th>\n",
       "      <th>metragem</th>\n",
       "      <th>quartos</th>\n",
       "      <th>garagens</th>\n",
       "      <th>banheiros</th>\n",
       "      <th>bairro</th>\n",
       "    </tr>\n",
       "  </thead>\n",
       "  <tbody>\n",
       "    <tr>\n",
       "      <th>0</th>\n",
       "      <td>Rua Maria Thereza Gonçalves, Umbara</td>\n",
       "      <td>399900</td>\n",
       "      <td>106</td>\n",
       "      <td>3.0</td>\n",
       "      <td>2.0</td>\n",
       "      <td>2</td>\n",
       "      <td>76</td>\n",
       "    </tr>\n",
       "    <tr>\n",
       "      <th>1</th>\n",
       "      <td>Travessa Paulo Ribeiro, Sitio Cercado</td>\n",
       "      <td>765190</td>\n",
       "      <td>319</td>\n",
       "      <td>5.0</td>\n",
       "      <td>3.0</td>\n",
       "      <td>4</td>\n",
       "      <td>70</td>\n",
       "    </tr>\n",
       "    <tr>\n",
       "      <th>2</th>\n",
       "      <td>Uberaba, Curitiba</td>\n",
       "      <td>2350000</td>\n",
       "      <td>500</td>\n",
       "      <td>5.0</td>\n",
       "      <td>7.0</td>\n",
       "      <td>5</td>\n",
       "      <td>75</td>\n",
       "    </tr>\n",
       "    <tr>\n",
       "      <th>3</th>\n",
       "      <td>Rua Ângelo Greca, Atuba</td>\n",
       "      <td>737000</td>\n",
       "      <td>144</td>\n",
       "      <td>4.0</td>\n",
       "      <td>NaN</td>\n",
       "      <td>4</td>\n",
       "      <td>7</td>\n",
       "    </tr>\n",
       "    <tr>\n",
       "      <th>4</th>\n",
       "      <td>Rua João Fonseca Mercer, Atuba</td>\n",
       "      <td>1140000</td>\n",
       "      <td>276</td>\n",
       "      <td>5.0</td>\n",
       "      <td>3.0</td>\n",
       "      <td>5</td>\n",
       "      <td>7</td>\n",
       "    </tr>\n",
       "  </tbody>\n",
       "</table>\n",
       "</div>"
      ],
      "text/plain": [
       "                                   local    preco  metragem  quartos  \\\n",
       "0    Rua Maria Thereza Gonçalves, Umbara   399900       106      3.0   \n",
       "1  Travessa Paulo Ribeiro, Sitio Cercado   765190       319      5.0   \n",
       "2                      Uberaba, Curitiba  2350000       500      5.0   \n",
       "3                Rua Ângelo Greca, Atuba   737000       144      4.0   \n",
       "4         Rua João Fonseca Mercer, Atuba  1140000       276      5.0   \n",
       "\n",
       "   garagens  banheiros  bairro  \n",
       "0       2.0          2      76  \n",
       "1       3.0          4      70  \n",
       "2       7.0          5      75  \n",
       "3       NaN          4       7  \n",
       "4       3.0          5       7  "
      ]
     },
     "execution_count": 83,
     "metadata": {},
     "output_type": "execute_result"
    }
   ],
   "source": [
    "df.head()"
   ]
  },
  {
   "cell_type": "code",
   "execution_count": 84,
   "metadata": {},
   "outputs": [],
   "source": [
    "x = df.drop(\"preco\", axis=1).drop(\"local\", axis=1)\n",
    "y = df[\"preco\"]"
   ]
  },
  {
   "cell_type": "code",
   "execution_count": 85,
   "metadata": {},
   "outputs": [],
   "source": [
    "scaler = StandardScaler()\n",
    "scaler_preco = StandardScaler()\n",
    "\n",
    "features = [['metragem', 'quartos', 'garagens', 'banheiros', 'bairro']]\n",
    "for feature in features:\n",
    "    x[feature] = scaler.fit_transform(x[feature])\n",
    "\n",
    "y = scaler_preco.fit_transform(y.values.reshape(-1,1))"
   ]
  },
  {
   "cell_type": "code",
   "execution_count": 86,
   "metadata": {},
   "outputs": [],
   "source": [
    "x.fillna(0, inplace=True)\n",
    "Y =y\n",
    "X = x.to_numpy()"
   ]
  },
  {
   "cell_type": "code",
   "execution_count": 87,
   "metadata": {},
   "outputs": [],
   "source": [
    "x_treinamento, x_teste, y_treinamento, y_teste = train_test_split(X, Y, test_size = 0.2, random_state = 0)"
   ]
  },
  {
   "cell_type": "code",
   "execution_count": 88,
   "metadata": {},
   "outputs": [
    {
     "data": {
      "text/plain": [
       "SVR()"
      ]
     },
     "execution_count": 88,
     "metadata": {},
     "output_type": "execute_result"
    }
   ],
   "source": [
    "regressor =  SVR()\n",
    "regressor.fit(x_treinamento, y_treinamento)"
   ]
  },
  {
   "cell_type": "code",
   "execution_count": 89,
   "metadata": {},
   "outputs": [],
   "source": [
    "previsoes = regressor.predict(x_teste)"
   ]
  },
  {
   "cell_type": "code",
   "execution_count": 90,
   "metadata": {},
   "outputs": [
    {
     "data": {
      "text/plain": [
       "array([-0.24833013,  0.14724304, -0.11105356, ..., -0.14890687,\n",
       "        0.75976935, -0.10787999])"
      ]
     },
     "execution_count": 90,
     "metadata": {},
     "output_type": "execute_result"
    }
   ],
   "source": [
    "previsoes"
   ]
  },
  {
   "cell_type": "code",
   "execution_count": 91,
   "metadata": {},
   "outputs": [
    {
     "name": "stdout",
     "output_type": "stream",
     "text": [
      "MAE: 1074390.2056818237\n",
      "R2: 0.5485556898368904\n"
     ]
    }
   ],
   "source": [
    "print(\"MAE:\",scaler_preco.inverse_transform(metrics.mean_absolute_error(y_teste, previsoes).reshape(-1,1))[0][0])\n",
    "#print(\"MSE:\", scaler_preco.inverse_transform(metrics.mean_squared_error(y_teste, previsoes).reshape(-1,1))[0][0])\n",
    "#print(\"MSLE:\",scaler_preco.inverse_transform(metrics.mean_squared_log_error(y_teste, previsoes).reshape(-1,1))[0][0])\n",
    "print(\"R2:\", metrics.r2_score(y_teste, previsoes))"
   ]
  },
  {
   "cell_type": "code",
   "execution_count": 92,
   "metadata": {},
   "outputs": [
    {
     "data": {
      "text/plain": [
       "array([[664858.78348291, 962068.79857432, 768000.18864561]])"
      ]
     },
     "execution_count": 92,
     "metadata": {},
     "output_type": "execute_result"
    }
   ],
   "source": [
    "scaler_preco.inverse_transform(previsoes.reshape(-1, 1))[:3].T"
   ]
  },
  {
   "cell_type": "code",
   "execution_count": 93,
   "metadata": {},
   "outputs": [
    {
     "data": {
      "text/plain": [
       "array([[ 780000., 1400000.,  730000.]])"
      ]
     },
     "execution_count": 93,
     "metadata": {},
     "output_type": "execute_result"
    }
   ],
   "source": [
    "scaler_preco.inverse_transform(y_teste.reshape(-1, 1))[:3].T"
   ]
  },
  {
   "cell_type": "code",
   "execution_count": 94,
   "metadata": {},
   "outputs": [
    {
     "name": "stdout",
     "output_type": "stream",
     "text": [
      "Preço estimado: R$ 883144.540298085\n"
     ]
    }
   ],
   "source": [
    "area = 247.6\n",
    "quartos = 4\n",
    "garagens = 4\n",
    "banheiros = 3\n",
    "bairro = 61 #Santa Felicidade\n",
    "valores = scaler.transform([[area, quartos, garagens, banheiros, bairro]])\n",
    "casa = regressor.predict(valores)\n",
    "\n",
    "print(\"Preço estimado: R$\", scaler_preco.inverse_transform(casa.reshape(-1,1))[0][0])"
   ]
  },
  {
   "cell_type": "code",
   "execution_count": 95,
   "metadata": {},
   "outputs": [],
   "source": [
    "with open(\"models/SVM.mod\", 'wb') as fo:  \n",
    "    dump(regressor, fo)"
   ]
  }
 ],
 "metadata": {
  "kernelspec": {
   "display_name": "Python 3.7.8 32-bit",
   "language": "python",
   "name": "python3"
  },
  "language_info": {
   "codemirror_mode": {
    "name": "ipython",
    "version": 3
   },
   "file_extension": ".py",
   "mimetype": "text/x-python",
   "name": "python",
   "nbconvert_exporter": "python",
   "pygments_lexer": "ipython3",
   "version": "3.7.8"
  },
  "orig_nbformat": 4,
  "vscode": {
   "interpreter": {
    "hash": "c72eea38e31e45ece3384b9089d7a4f46e899cb129d83cdec1758a1f0e4694ab"
   }
  }
 },
 "nbformat": 4,
 "nbformat_minor": 2
}
